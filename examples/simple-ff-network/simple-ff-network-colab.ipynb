{
  "nbformat": 4,
  "nbformat_minor": 2,
  "metadata": {
    "colab": {
      "name": "Untitled0.ipynb",
      "provenance": [],
      "collapsed_sections": [
        "eaWmB1Mz0hZV"
      ]
    },
    "kernelspec": {
      "name": "python3",
      "display_name": "Python 3.8.11 64-bit ('simple_ff_net': conda)"
    },
    "language_info": {
      "name": "python",
      "version": "3.8.11"
    },
    "interpreter": {
      "hash": "98e2948b902fe9b21b4db90f7d2a049459efc5ce069f754834f4228fc10f0c45"
    }
  },
  "cells": [
    {
      "cell_type": "markdown",
      "source": [
        "# Simple Fast Forward Network (FFN)\n",
        "\n",
        "This is a simple Deep Learning example based on [this tutorial](https://machinelearningmastery.com/tutorial-first-neural-network-python-keras/) and some extensions suggested in the article itself"
      ],
      "metadata": {
        "id": "84yRnFnAz6gW"
      }
    },
    {
      "cell_type": "code",
      "execution_count": 15,
      "source": [
        "# Import all necessary modules.\n",
        "\n",
        "import tensorflow as tf\n",
        "import matplotlib.pyplot as plt\n",
        "import numpy as np\n",
        "\n",
        "from tensorflow.keras.models import Sequential, Model\n",
        "from tensorflow.keras.layers import Dense, Input\n",
        "from sklearn.model_selection import train_test_split"
      ],
      "outputs": [],
      "metadata": {
        "id": "e4JvRx8cz5Px"
      }
    },
    {
      "cell_type": "markdown",
      "source": [
        "These are general variables for your model: they are called **hyperparameters**. They are grouped here for ease of use, in most cases they should be stored in a configuration file. You will see them pop up all over the script."
      ],
      "metadata": {
        "id": "_zBltGKE5qzJ"
      }
    },
    {
      "cell_type": "code",
      "execution_count": 21,
      "source": [
        "random_state = 42\n",
        "test_fraction = 0.2\n",
        "batch_size = 32\n",
        "input_size = 8\n",
        "layers = [\n",
        "    {'size': 12, 'activation': 'relu'},\n",
        "    {'size': 8, 'activation': 'relu'},\n",
        "    {'size': 1, 'activation': 'sigmoid'},\n",
        "]\n",
        "epochs = 150"
      ],
      "outputs": [],
      "metadata": {
        "id": "mD65-mio59cB"
      }
    },
    {
      "cell_type": "markdown",
      "source": [
        "These are just helpful functions. You can have a look at them, but they are not part of the tutorial: they are just here to be used."
      ],
      "metadata": {
        "id": "SvljoT_K9L2l"
      }
    },
    {
      "cell_type": "code",
      "execution_count": 29,
      "source": [
        "def plot_history(history, metrics, restore_weights=True, yscale='linear', save_folder=None):\n",
        "  \"\"\"Plot the history af all specified metrics, comparing training and testing metrics.\"\"\"\n",
        "\n",
        "  if restore_weights and 'val_loss' in history.history.keys():\n",
        "    # Find the epoch with the best result (which the model was restored to).\n",
        "    best_epoch = np.argmin(history.history['val_loss'])\n",
        "    print(f\"Restored weights to epoch: {best_epoch}\")\n",
        "  else:\n",
        "    best_epoch = None\n",
        "\n",
        "  # Plot the history of each metric.\n",
        "  for metric in metrics:\n",
        "    plt.figure()\n",
        "    plt.title(metric)\n",
        "    plt.xlabel('epoch')\n",
        "    plt.ylabel(metric)\n",
        "    plt.yscale(yscale)\n",
        "\n",
        "    # Trained metric.\n",
        "    plt.plot(history.history[metric])\n",
        "    print(f\"{metric}: {history.history[metric][best_epoch or len(history.history[metric]) - 1]}\")\n",
        "    \n",
        "    val_metric = 'val_' + metric\n",
        "    if val_metric in history.history.keys():\n",
        "      # Same metric evaluated on the test set.\n",
        "      plt.plot(history.history[val_metric])\n",
        "      print(f\"{val_metric}: {history.history[val_metric][best_epoch or len(history.history[metric]) - 1]}\")\n",
        "\n",
        "      # Highlight the epoch the weights were restored to.\n",
        "      if restore_weights:\n",
        "        plt.plot(best_epoch, history.history[val_metric][best_epoch], 'ro')\n",
        "    \n",
        "    plt.legend(['train', 'validation'], loc='best')\n",
        "\n",
        "    if save_folder:\n",
        "      plt.savefig(f'{save_folder}/{metric}')\n",
        "    plt.show()"
      ],
      "outputs": [],
      "metadata": {
        "cellView": "form",
        "id": "T0jJjGC19WiD"
      }
    },
    {
      "cell_type": "markdown",
      "source": [
        "## Load the data\n",
        "\n",
        "First of all we need to download the data on our local filesystem. In this case our data is contained in two CSV files freely downloadable from the internet."
      ],
      "metadata": {
        "id": "eaWmB1Mz0hZV"
      }
    },
    {
      "cell_type": "code",
      "execution_count": 12,
      "source": [
        "DATA_DIR = \"/content/data\"\n",
        "DATASET_URL = \"https://raw.githubusercontent.com/jbrownlee/Datasets/master/pima-indians-diabetes.data.csv\"\n",
        "DATASET_PATH = DATA_DIR + \"/pima-indians-diabetes.data.csv\"\n",
        "DATASET_DETAILS_URL = \"https://raw.githubusercontent.com/jbrownlee/Datasets/master/pima-indians-diabetes.names\"\n",
        "DATASET_DETAILS_PATH = DATA_DIR + \"/pima-indians-diabetes.names\"\n",
        "\n",
        "# Create the directory where data is stored. \n",
        "!mkdir -p $DATA_DIR\n",
        "# Download the data.\n",
        "!wget $DATASET_URL -O $DATASET_PATH\n",
        "!wget $DATASET_DETAILS_URL -O $DATASET_DETAILS_PATH"
      ],
      "outputs": [
        {
          "output_type": "stream",
          "name": "stdout",
          "text": [
            "--2021-09-12 21:16:01--  https://raw.githubusercontent.com/jbrownlee/Datasets/master/pima-indians-diabetes.data.csv\n",
            "Resolving raw.githubusercontent.com (raw.githubusercontent.com)... 185.199.108.133, 185.199.109.133, 185.199.110.133, ...\n",
            "Connecting to raw.githubusercontent.com (raw.githubusercontent.com)|185.199.108.133|:443... connected.\n",
            "HTTP request sent, awaiting response... 200 OK\n",
            "Length: 23278 (23K) [text/plain]\n",
            "Saving to: ‘/content/data/pima-indians-diabetes.data.csv’\n",
            "\n",
            "\r          /content/   0%[                    ]       0  --.-KB/s               \r/content/data/pima- 100%[===================>]  22.73K  --.-KB/s    in 0.002s  \n",
            "\n",
            "2021-09-12 21:16:01 (10.1 MB/s) - ‘/content/data/pima-indians-diabetes.data.csv’ saved [23278/23278]\n",
            "\n",
            "--2021-09-12 21:16:02--  https://raw.githubusercontent.com/jbrownlee/Datasets/master/pima-indians-diabetes.names\n",
            "Resolving raw.githubusercontent.com (raw.githubusercontent.com)... 185.199.110.133, 185.199.109.133, 185.199.111.133, ...\n",
            "Connecting to raw.githubusercontent.com (raw.githubusercontent.com)|185.199.110.133|:443... connected.\n",
            "HTTP request sent, awaiting response... 200 OK\n",
            "Length: 3066 (3.0K) [text/plain]\n",
            "Saving to: ‘/content/data/pima-indians-diabetes.names’\n",
            "\n",
            "/content/data/pima- 100%[===================>]   2.99K  --.-KB/s    in 0s      \n",
            "\n",
            "2021-09-12 21:16:02 (32.8 MB/s) - ‘/content/data/pima-indians-diabetes.names’ saved [3066/3066]\n",
            "\n"
          ]
        }
      ],
      "metadata": {
        "colab": {
          "base_uri": "https://localhost:8080/"
        },
        "id": "F6LBdafx0wRx",
        "outputId": "66b2fb10-75df-4c38-8cff-80f18f1a838c"
      }
    },
    {
      "cell_type": "markdown",
      "source": [
        "Now we need to load the data in memory. Note that we want to have input and output in two different variables."
      ],
      "metadata": {
        "id": "2LleFyL_3jx8"
      }
    },
    {
      "cell_type": "code",
      "execution_count": 13,
      "source": [
        "def load_data(csv_path):\n",
        "  # Load data from the CSV file.\n",
        "  data = np.loadtxt(csv_path, delimiter=\",\")\n",
        "      \n",
        "  # Split data between input (first 8 columns) and output (last column).\n",
        "  # Input.\n",
        "  X = data[:, 0:8]\n",
        "  # Output.\n",
        "  y = data[:, 8]\n",
        "\n",
        "  return X, y\n",
        "\n",
        "# Load the dataset.\n",
        "X, y = load_data(csv_path=DATASET_PATH)"
      ],
      "outputs": [],
      "metadata": {
        "id": "zWfk8wNR1pIX"
      }
    },
    {
      "cell_type": "markdown",
      "source": [
        "Once the data is loaded we want to split the data between a training and a validation dataset.  \n",
        "For more information see: https://machinelearningmastery.com/train-test-split-for-evaluating-machine-learning-algorithms/\n",
        "\n",
        "The random_state parameter ensures reproducibility.  \n",
        "For more information see: https://machinelearningmastery.com/different-results-each-time-in-machine-learning/"
      ],
      "metadata": {
        "id": "v4hEs8Yk33DC"
      }
    },
    {
      "cell_type": "code",
      "execution_count": 22,
      "source": [
        "X_train, X_val, y_train, y_val = train_test_split(X, y, test_size=test_fraction, shuffle=True, random_state=random_state)"
      ],
      "outputs": [],
      "metadata": {
        "id": "Yih4c71B4uX-"
      }
    },
    {
      "cell_type": "markdown",
      "source": [
        "## Model\n",
        "\n",
        "Once we are done with the data we can define the models. Keras offers two main ways to build a model: the Sequential API, easier, but more limited and the Functional API, more complex, but much more advanced.\n",
        "\n",
        "For more informations on Keras functional API see: https://machinelearningmastery.com/keras-functional-api-deep-learning/"
      ],
      "metadata": {
        "id": "15f0fSvV7M63"
      }
    },
    {
      "cell_type": "code",
      "execution_count": 25,
      "source": [
        "def get_model_sequential(input_dim: int, layers):\n",
        "  \"\"\"Build a model with Keras Sequential API.\"\"\"\n",
        "\n",
        "  model = Sequential()\n",
        "  # First layer.\n",
        "  model.add(Dense(layers[0]['size'], input_dim=input_dim, activation=layers[0]['activation']))\n",
        "  # Other layers.\n",
        "  for layer in layers[1:]:\n",
        "    model.add(Dense(layer['size'], activation=layer['activation']))\n",
        "  # Return the finished model.\n",
        "  return model\n",
        "\n",
        "\n",
        "def get_model_functional(input_dim: int, layers):\n",
        "  \"\"\"Build a model with Keras Functional API.\"\"\"\n",
        "\n",
        "  # Input layer.\n",
        "  input_layer = Input(shape=(input_dim,))\n",
        "  output = input_layer\n",
        "  # Each layer takes the previous (output) as input.\n",
        "  for layer in layers:\n",
        "    output = Dense(layer['size'], activation=layer['activation'])(output)\n",
        "  # Return the finished model.\n",
        "  return Model(inputs=input_layer, outputs=[output])"
      ],
      "outputs": [],
      "metadata": {
        "id": "ihh1x5yX7lAK"
      }
    },
    {
      "cell_type": "code",
      "execution_count": 36,
      "source": [
        "# Create the models.\n",
        "model_seq = get_model_sequential(input_size, layers)\n",
        "model_func = get_model_functional(input_size, layers)\n",
        "# Print the details of each model.\n",
        "print(\"## Sequential model ##\")\n",
        "print(model_seq.summary())\n",
        "print(\"\\n## Functional model ##\")\n",
        "print(model_func.summary())"
      ],
      "outputs": [
        {
          "output_type": "stream",
          "name": "stdout",
          "text": [
            "## Sequential model ##\n",
            "Model: \"sequential_3\"\n",
            "_________________________________________________________________\n",
            "Layer (type)                 Output Shape              Param #   \n",
            "=================================================================\n",
            "dense_18 (Dense)             (None, 12)                108       \n",
            "_________________________________________________________________\n",
            "dense_19 (Dense)             (None, 8)                 104       \n",
            "_________________________________________________________________\n",
            "dense_20 (Dense)             (None, 1)                 9         \n",
            "=================================================================\n",
            "Total params: 221\n",
            "Trainable params: 221\n",
            "Non-trainable params: 0\n",
            "_________________________________________________________________\n",
            "None\n",
            "\n",
            "## Functional model ##\n",
            "Model: \"model_3\"\n",
            "_________________________________________________________________\n",
            "Layer (type)                 Output Shape              Param #   \n",
            "=================================================================\n",
            "input_4 (InputLayer)         [(None, 8)]               0         \n",
            "_________________________________________________________________\n",
            "dense_21 (Dense)             (None, 12)                108       \n",
            "_________________________________________________________________\n",
            "dense_22 (Dense)             (None, 8)                 104       \n",
            "_________________________________________________________________\n",
            "dense_23 (Dense)             (None, 1)                 9         \n",
            "=================================================================\n",
            "Total params: 221\n",
            "Trainable params: 221\n",
            "Non-trainable params: 0\n",
            "_________________________________________________________________\n",
            "None\n"
          ]
        }
      ],
      "metadata": {
        "colab": {
          "base_uri": "https://localhost:8080/"
        },
        "id": "lXAoWPAG4hWT",
        "outputId": "de268b43-61bf-4898-d694-34cdc22b7edc"
      }
    },
    {
      "cell_type": "markdown",
      "source": [
        "The two models we have created are perfectly equivalent, so just choose one or the other: you will see that the results do not change."
      ],
      "metadata": {
        "id": "KUNHo2dp8coI"
      }
    },
    {
      "cell_type": "code",
      "execution_count": 37,
      "source": [
        "model = model_seq\n",
        "# model = model_func"
      ],
      "outputs": [],
      "metadata": {
        "id": "xarZM8ai8Vx3"
      }
    },
    {
      "cell_type": "markdown",
      "source": [
        "## Training\n",
        "\n",
        "Now the central step: we feed our data to our model and train it. Before, however, we have to define some things.\n",
        "\n",
        "For more information on losses, optimizers, metrics, callbacks search the Keras documentation and read:\n",
        "https://machinelearningmastery.com/5-step-life-cycle-neural-network-models-keras/\n",
        "https://machinelearningmastery.com/loss-and-loss-functions-for-training-deep-learning-neural-networks/\n",
        "https://machinelearningmastery.com/tour-of-optimization-algorithms/ \n",
        "https://machinelearningmastery.com/custom-metrics-deep-learning-keras-python/\n",
        "https://machinelearningmastery.com/how-to-stop-training-deep-neural-networks-at-the-right-time-using-early-stopping/\n",
        "\n",
        "You can also define your own functions as losses, metrics or callbacks."
      ],
      "metadata": {
        "id": "GaUajE9Y8usk"
      }
    },
    {
      "cell_type": "code",
      "execution_count": 38,
      "source": [
        "PLOT_DIR = \"/content/plots/\"\n",
        "!mkdir -p $PLOT_DIR\n",
        "\n",
        "# Our case is a classification problem, so we'll use binary crossentropy loss and accuracy metric.\n",
        "model.compile(loss='binary_crossentropy', optimizer='adam', metrics=['accuracy'])\n",
        "# Fit the keras model on the dataset.\n",
        "history = model.fit(X_train, y_train, validation_data=(X_val, y_val), epochs=epochs, batch_size=batch_size)\n",
        "# Output of the history.\n",
        "plot_history(history, metrics=['loss', 'accuracy'], restore_weights=False, save_folder=PLOT_DIR)"
      ],
      "outputs": [
        {
          "output_type": "stream",
          "name": "stdout",
          "text": [
            "Epoch 1/150\n",
            "20/20 [==============================] - 1s 9ms/step - loss: 23.0561 - accuracy: 0.3550 - val_loss: 12.7240 - val_accuracy: 0.3961\n",
            "Epoch 2/150\n",
            "20/20 [==============================] - 0s 3ms/step - loss: 13.1707 - accuracy: 0.4397 - val_loss: 8.0536 - val_accuracy: 0.5455\n",
            "Epoch 3/150\n",
            "20/20 [==============================] - 0s 2ms/step - loss: 8.6044 - accuracy: 0.4609 - val_loss: 4.9458 - val_accuracy: 0.5649\n",
            "Epoch 4/150\n",
            "20/20 [==============================] - 0s 3ms/step - loss: 4.9391 - accuracy: 0.5261 - val_loss: 2.9624 - val_accuracy: 0.6494\n",
            "Epoch 5/150\n",
            "20/20 [==============================] - 0s 3ms/step - loss: 2.9149 - accuracy: 0.6124 - val_loss: 1.7872 - val_accuracy: 0.6558\n",
            "Epoch 6/150\n",
            "20/20 [==============================] - 0s 3ms/step - loss: 1.8576 - accuracy: 0.6059 - val_loss: 1.2896 - val_accuracy: 0.6818\n",
            "Epoch 7/150\n",
            "20/20 [==============================] - 0s 4ms/step - loss: 1.4660 - accuracy: 0.6221 - val_loss: 1.1449 - val_accuracy: 0.6688\n",
            "Epoch 8/150\n",
            "20/20 [==============================] - 0s 3ms/step - loss: 1.3080 - accuracy: 0.5928 - val_loss: 1.0303 - val_accuracy: 0.6623\n",
            "Epoch 9/150\n",
            "20/20 [==============================] - 0s 3ms/step - loss: 1.1471 - accuracy: 0.6075 - val_loss: 1.0090 - val_accuracy: 0.6558\n",
            "Epoch 10/150\n",
            "20/20 [==============================] - 0s 3ms/step - loss: 1.0678 - accuracy: 0.6010 - val_loss: 1.0293 - val_accuracy: 0.6623\n",
            "Epoch 11/150\n",
            "20/20 [==============================] - 0s 2ms/step - loss: 0.9810 - accuracy: 0.6287 - val_loss: 0.8644 - val_accuracy: 0.6623\n",
            "Epoch 12/150\n",
            "20/20 [==============================] - 0s 3ms/step - loss: 0.9037 - accuracy: 0.6156 - val_loss: 0.7935 - val_accuracy: 0.6688\n",
            "Epoch 13/150\n",
            "20/20 [==============================] - 0s 3ms/step - loss: 0.8559 - accuracy: 0.5961 - val_loss: 0.7971 - val_accuracy: 0.6494\n",
            "Epoch 14/150\n",
            "20/20 [==============================] - 0s 3ms/step - loss: 0.8356 - accuracy: 0.6156 - val_loss: 0.7634 - val_accuracy: 0.6623\n",
            "Epoch 15/150\n",
            "20/20 [==============================] - 0s 2ms/step - loss: 0.8282 - accuracy: 0.6156 - val_loss: 0.7773 - val_accuracy: 0.6623\n",
            "Epoch 16/150\n",
            "20/20 [==============================] - 0s 3ms/step - loss: 0.7863 - accuracy: 0.6205 - val_loss: 0.6891 - val_accuracy: 0.6494\n",
            "Epoch 17/150\n",
            "20/20 [==============================] - 0s 3ms/step - loss: 0.7579 - accuracy: 0.5993 - val_loss: 0.7179 - val_accuracy: 0.6623\n",
            "Epoch 18/150\n",
            "20/20 [==============================] - 0s 3ms/step - loss: 0.7505 - accuracy: 0.6091 - val_loss: 0.7038 - val_accuracy: 0.6623\n",
            "Epoch 19/150\n",
            "20/20 [==============================] - 0s 4ms/step - loss: 0.7446 - accuracy: 0.6238 - val_loss: 0.7085 - val_accuracy: 0.6753\n",
            "Epoch 20/150\n",
            "20/20 [==============================] - 0s 3ms/step - loss: 0.7270 - accuracy: 0.6140 - val_loss: 0.7380 - val_accuracy: 0.6558\n",
            "Epoch 21/150\n",
            "20/20 [==============================] - 0s 3ms/step - loss: 0.7326 - accuracy: 0.6075 - val_loss: 0.6545 - val_accuracy: 0.6494\n",
            "Epoch 22/150\n",
            "20/20 [==============================] - 0s 3ms/step - loss: 0.7614 - accuracy: 0.5977 - val_loss: 0.6403 - val_accuracy: 0.6883\n",
            "Epoch 23/150\n",
            "20/20 [==============================] - 0s 4ms/step - loss: 0.7200 - accuracy: 0.6254 - val_loss: 0.6450 - val_accuracy: 0.7208\n",
            "Epoch 24/150\n",
            "20/20 [==============================] - 0s 3ms/step - loss: 0.6988 - accuracy: 0.6221 - val_loss: 0.6383 - val_accuracy: 0.6753\n",
            "Epoch 25/150\n",
            "20/20 [==============================] - 0s 3ms/step - loss: 0.7025 - accuracy: 0.6303 - val_loss: 0.6465 - val_accuracy: 0.6948\n",
            "Epoch 26/150\n",
            "20/20 [==============================] - 0s 3ms/step - loss: 0.6891 - accuracy: 0.6384 - val_loss: 0.6409 - val_accuracy: 0.6623\n",
            "Epoch 27/150\n",
            "20/20 [==============================] - 0s 3ms/step - loss: 0.6800 - accuracy: 0.6352 - val_loss: 0.6570 - val_accuracy: 0.6429\n",
            "Epoch 28/150\n",
            "20/20 [==============================] - 0s 4ms/step - loss: 0.6866 - accuracy: 0.6515 - val_loss: 0.6466 - val_accuracy: 0.6948\n",
            "Epoch 29/150\n",
            "20/20 [==============================] - 0s 3ms/step - loss: 0.6983 - accuracy: 0.6205 - val_loss: 0.6338 - val_accuracy: 0.6429\n",
            "Epoch 30/150\n",
            "20/20 [==============================] - 0s 3ms/step - loss: 0.6682 - accuracy: 0.6629 - val_loss: 0.6355 - val_accuracy: 0.6494\n",
            "Epoch 31/150\n",
            "20/20 [==============================] - 0s 4ms/step - loss: 0.6647 - accuracy: 0.6612 - val_loss: 0.7152 - val_accuracy: 0.6623\n",
            "Epoch 32/150\n",
            "20/20 [==============================] - 0s 3ms/step - loss: 0.6970 - accuracy: 0.6189 - val_loss: 0.6838 - val_accuracy: 0.6623\n",
            "Epoch 33/150\n",
            "20/20 [==============================] - 0s 3ms/step - loss: 0.6618 - accuracy: 0.6645 - val_loss: 0.6225 - val_accuracy: 0.6623\n",
            "Epoch 34/150\n",
            "20/20 [==============================] - 0s 3ms/step - loss: 0.6531 - accuracy: 0.6531 - val_loss: 0.6684 - val_accuracy: 0.6558\n",
            "Epoch 35/150\n",
            "20/20 [==============================] - 0s 3ms/step - loss: 0.6682 - accuracy: 0.6482 - val_loss: 0.6493 - val_accuracy: 0.6623\n",
            "Epoch 36/150\n",
            "20/20 [==============================] - 0s 3ms/step - loss: 0.6553 - accuracy: 0.6743 - val_loss: 0.6178 - val_accuracy: 0.6753\n",
            "Epoch 37/150\n",
            "20/20 [==============================] - 0s 3ms/step - loss: 0.6548 - accuracy: 0.6498 - val_loss: 0.6091 - val_accuracy: 0.7143\n",
            "Epoch 38/150\n",
            "20/20 [==============================] - 0s 3ms/step - loss: 0.6502 - accuracy: 0.6694 - val_loss: 0.6138 - val_accuracy: 0.6429\n",
            "Epoch 39/150\n",
            "20/20 [==============================] - 0s 2ms/step - loss: 0.6578 - accuracy: 0.6759 - val_loss: 0.6109 - val_accuracy: 0.6948\n",
            "Epoch 40/150\n",
            "20/20 [==============================] - 0s 3ms/step - loss: 0.6579 - accuracy: 0.6515 - val_loss: 0.6120 - val_accuracy: 0.7468\n",
            "Epoch 41/150\n",
            "20/20 [==============================] - 0s 2ms/step - loss: 0.6509 - accuracy: 0.6792 - val_loss: 0.6080 - val_accuracy: 0.7792\n",
            "Epoch 42/150\n",
            "20/20 [==============================] - 0s 3ms/step - loss: 0.6442 - accuracy: 0.6743 - val_loss: 0.6082 - val_accuracy: 0.6494\n",
            "Epoch 43/150\n",
            "20/20 [==============================] - 0s 4ms/step - loss: 0.6283 - accuracy: 0.6808 - val_loss: 0.6509 - val_accuracy: 0.6429\n",
            "Epoch 44/150\n",
            "20/20 [==============================] - 0s 3ms/step - loss: 0.6596 - accuracy: 0.6417 - val_loss: 0.6923 - val_accuracy: 0.6623\n",
            "Epoch 45/150\n",
            "20/20 [==============================] - 0s 3ms/step - loss: 0.6302 - accuracy: 0.6759 - val_loss: 0.6002 - val_accuracy: 0.7078\n",
            "Epoch 46/150\n",
            "20/20 [==============================] - 0s 3ms/step - loss: 0.6357 - accuracy: 0.6775 - val_loss: 0.6149 - val_accuracy: 0.6429\n",
            "Epoch 47/150\n",
            "20/20 [==============================] - 0s 2ms/step - loss: 0.6309 - accuracy: 0.6775 - val_loss: 0.6130 - val_accuracy: 0.6494\n",
            "Epoch 48/150\n",
            "20/20 [==============================] - 0s 3ms/step - loss: 0.6209 - accuracy: 0.6824 - val_loss: 0.5896 - val_accuracy: 0.7208\n",
            "Epoch 49/150\n",
            "20/20 [==============================] - 0s 3ms/step - loss: 0.6325 - accuracy: 0.6808 - val_loss: 0.5915 - val_accuracy: 0.7273\n",
            "Epoch 50/150\n",
            "20/20 [==============================] - 0s 3ms/step - loss: 0.6340 - accuracy: 0.6564 - val_loss: 0.5902 - val_accuracy: 0.7013\n",
            "Epoch 51/150\n",
            "20/20 [==============================] - 0s 3ms/step - loss: 0.6279 - accuracy: 0.6759 - val_loss: 0.5930 - val_accuracy: 0.7532\n",
            "Epoch 52/150\n",
            "20/20 [==============================] - 0s 3ms/step - loss: 0.6386 - accuracy: 0.6775 - val_loss: 0.6106 - val_accuracy: 0.7273\n",
            "Epoch 53/150\n",
            "20/20 [==============================] - 0s 3ms/step - loss: 0.6444 - accuracy: 0.6645 - val_loss: 0.5997 - val_accuracy: 0.7532\n",
            "Epoch 54/150\n",
            "20/20 [==============================] - 0s 3ms/step - loss: 0.6240 - accuracy: 0.6743 - val_loss: 0.5845 - val_accuracy: 0.7468\n",
            "Epoch 55/150\n",
            "20/20 [==============================] - 0s 3ms/step - loss: 0.6144 - accuracy: 0.6873 - val_loss: 0.5857 - val_accuracy: 0.7597\n",
            "Epoch 56/150\n",
            "20/20 [==============================] - 0s 3ms/step - loss: 0.6180 - accuracy: 0.6808 - val_loss: 0.6039 - val_accuracy: 0.6623\n",
            "Epoch 57/150\n",
            "20/20 [==============================] - 0s 3ms/step - loss: 0.6109 - accuracy: 0.6971 - val_loss: 0.6213 - val_accuracy: 0.6688\n",
            "Epoch 58/150\n",
            "20/20 [==============================] - 0s 3ms/step - loss: 0.6229 - accuracy: 0.6840 - val_loss: 0.5852 - val_accuracy: 0.6818\n",
            "Epoch 59/150\n",
            "20/20 [==============================] - 0s 3ms/step - loss: 0.6162 - accuracy: 0.6873 - val_loss: 0.5790 - val_accuracy: 0.7143\n",
            "Epoch 60/150\n",
            "20/20 [==============================] - 0s 3ms/step - loss: 0.6108 - accuracy: 0.6808 - val_loss: 0.5819 - val_accuracy: 0.7078\n",
            "Epoch 61/150\n",
            "20/20 [==============================] - 0s 3ms/step - loss: 0.6060 - accuracy: 0.6808 - val_loss: 0.5814 - val_accuracy: 0.7532\n",
            "Epoch 62/150\n",
            "20/20 [==============================] - 0s 4ms/step - loss: 0.6230 - accuracy: 0.6873 - val_loss: 0.5827 - val_accuracy: 0.6818\n",
            "Epoch 63/150\n",
            "20/20 [==============================] - 0s 3ms/step - loss: 0.6323 - accuracy: 0.6482 - val_loss: 0.5908 - val_accuracy: 0.6688\n",
            "Epoch 64/150\n",
            "20/20 [==============================] - 0s 3ms/step - loss: 0.6061 - accuracy: 0.6922 - val_loss: 0.6244 - val_accuracy: 0.6558\n",
            "Epoch 65/150\n",
            "20/20 [==============================] - 0s 3ms/step - loss: 0.6117 - accuracy: 0.6938 - val_loss: 0.6152 - val_accuracy: 0.6558\n",
            "Epoch 66/150\n",
            "20/20 [==============================] - 0s 3ms/step - loss: 0.6374 - accuracy: 0.6612 - val_loss: 0.5923 - val_accuracy: 0.6753\n",
            "Epoch 67/150\n",
            "20/20 [==============================] - 0s 3ms/step - loss: 0.6092 - accuracy: 0.6824 - val_loss: 0.5793 - val_accuracy: 0.7338\n",
            "Epoch 68/150\n",
            "20/20 [==============================] - 0s 2ms/step - loss: 0.5985 - accuracy: 0.6889 - val_loss: 0.5742 - val_accuracy: 0.7143\n",
            "Epoch 69/150\n",
            "20/20 [==============================] - 0s 3ms/step - loss: 0.6128 - accuracy: 0.6694 - val_loss: 0.5872 - val_accuracy: 0.7338\n",
            "Epoch 70/150\n",
            "20/20 [==============================] - 0s 3ms/step - loss: 0.6010 - accuracy: 0.6922 - val_loss: 0.5751 - val_accuracy: 0.7597\n",
            "Epoch 71/150\n",
            "20/20 [==============================] - 0s 3ms/step - loss: 0.6103 - accuracy: 0.6775 - val_loss: 0.6224 - val_accuracy: 0.6688\n",
            "Epoch 72/150\n",
            "20/20 [==============================] - 0s 3ms/step - loss: 0.6153 - accuracy: 0.6743 - val_loss: 0.5829 - val_accuracy: 0.6623\n",
            "Epoch 73/150\n",
            "20/20 [==============================] - 0s 4ms/step - loss: 0.6080 - accuracy: 0.6954 - val_loss: 0.5751 - val_accuracy: 0.7532\n",
            "Epoch 74/150\n",
            "20/20 [==============================] - 0s 2ms/step - loss: 0.6710 - accuracy: 0.6694 - val_loss: 0.6139 - val_accuracy: 0.7273\n",
            "Epoch 75/150\n",
            "20/20 [==============================] - 0s 3ms/step - loss: 0.6132 - accuracy: 0.6889 - val_loss: 0.5811 - val_accuracy: 0.7468\n",
            "Epoch 76/150\n",
            "20/20 [==============================] - 0s 3ms/step - loss: 0.5946 - accuracy: 0.6987 - val_loss: 0.5760 - val_accuracy: 0.6753\n",
            "Epoch 77/150\n",
            "20/20 [==============================] - 0s 2ms/step - loss: 0.5953 - accuracy: 0.6938 - val_loss: 0.5663 - val_accuracy: 0.7208\n",
            "Epoch 78/150\n",
            "20/20 [==============================] - 0s 3ms/step - loss: 0.6003 - accuracy: 0.6694 - val_loss: 0.5755 - val_accuracy: 0.6818\n",
            "Epoch 79/150\n",
            "20/20 [==============================] - 0s 4ms/step - loss: 0.5936 - accuracy: 0.7003 - val_loss: 0.5681 - val_accuracy: 0.7078\n",
            "Epoch 80/150\n",
            "20/20 [==============================] - 0s 3ms/step - loss: 0.6006 - accuracy: 0.7003 - val_loss: 0.5866 - val_accuracy: 0.6688\n",
            "Epoch 81/150\n",
            "20/20 [==============================] - 0s 3ms/step - loss: 0.5876 - accuracy: 0.7003 - val_loss: 0.5811 - val_accuracy: 0.7338\n",
            "Epoch 82/150\n",
            "20/20 [==============================] - 0s 3ms/step - loss: 0.6124 - accuracy: 0.6938 - val_loss: 0.6150 - val_accuracy: 0.7208\n",
            "Epoch 83/150\n",
            "20/20 [==============================] - 0s 3ms/step - loss: 0.5960 - accuracy: 0.6873 - val_loss: 0.5676 - val_accuracy: 0.7078\n",
            "Epoch 84/150\n",
            "20/20 [==============================] - 0s 3ms/step - loss: 0.6129 - accuracy: 0.6694 - val_loss: 0.6198 - val_accuracy: 0.6688\n",
            "Epoch 85/150\n",
            "20/20 [==============================] - 0s 3ms/step - loss: 0.5986 - accuracy: 0.6873 - val_loss: 0.5660 - val_accuracy: 0.7468\n",
            "Epoch 86/150\n",
            "20/20 [==============================] - 0s 4ms/step - loss: 0.5899 - accuracy: 0.6906 - val_loss: 0.5601 - val_accuracy: 0.7403\n",
            "Epoch 87/150\n",
            "20/20 [==============================] - 0s 3ms/step - loss: 0.5799 - accuracy: 0.7068 - val_loss: 0.5594 - val_accuracy: 0.7403\n",
            "Epoch 88/150\n",
            "20/20 [==============================] - 0s 3ms/step - loss: 0.5918 - accuracy: 0.6971 - val_loss: 0.5934 - val_accuracy: 0.6753\n",
            "Epoch 89/150\n",
            "20/20 [==============================] - 0s 3ms/step - loss: 0.5968 - accuracy: 0.6873 - val_loss: 0.5634 - val_accuracy: 0.7468\n",
            "Epoch 90/150\n",
            "20/20 [==============================] - 0s 3ms/step - loss: 0.5825 - accuracy: 0.7020 - val_loss: 0.5703 - val_accuracy: 0.6818\n",
            "Epoch 91/150\n",
            "20/20 [==============================] - 0s 4ms/step - loss: 0.5863 - accuracy: 0.6873 - val_loss: 0.5707 - val_accuracy: 0.6883\n",
            "Epoch 92/150\n",
            "20/20 [==============================] - 0s 3ms/step - loss: 0.5788 - accuracy: 0.7085 - val_loss: 0.5953 - val_accuracy: 0.7338\n",
            "Epoch 93/150\n",
            "20/20 [==============================] - 0s 3ms/step - loss: 0.5917 - accuracy: 0.6954 - val_loss: 0.5609 - val_accuracy: 0.7532\n",
            "Epoch 94/150\n",
            "20/20 [==============================] - 0s 3ms/step - loss: 0.5813 - accuracy: 0.6922 - val_loss: 0.5743 - val_accuracy: 0.7273\n",
            "Epoch 95/150\n",
            "20/20 [==============================] - 0s 3ms/step - loss: 0.5797 - accuracy: 0.6987 - val_loss: 0.5587 - val_accuracy: 0.7013\n",
            "Epoch 96/150\n",
            "20/20 [==============================] - 0s 4ms/step - loss: 0.5837 - accuracy: 0.7101 - val_loss: 0.5581 - val_accuracy: 0.7532\n",
            "Epoch 97/150\n",
            "20/20 [==============================] - 0s 4ms/step - loss: 0.6013 - accuracy: 0.6889 - val_loss: 0.5831 - val_accuracy: 0.6883\n",
            "Epoch 98/150\n",
            "20/20 [==============================] - 0s 3ms/step - loss: 0.5881 - accuracy: 0.6922 - val_loss: 0.5984 - val_accuracy: 0.6753\n",
            "Epoch 99/150\n",
            "20/20 [==============================] - 0s 3ms/step - loss: 0.5871 - accuracy: 0.6938 - val_loss: 0.5632 - val_accuracy: 0.7338\n",
            "Epoch 100/150\n",
            "20/20 [==============================] - 0s 3ms/step - loss: 0.5863 - accuracy: 0.6906 - val_loss: 0.5607 - val_accuracy: 0.7143\n",
            "Epoch 101/150\n",
            "20/20 [==============================] - 0s 3ms/step - loss: 0.6154 - accuracy: 0.6857 - val_loss: 0.5867 - val_accuracy: 0.6753\n",
            "Epoch 102/150\n",
            "20/20 [==============================] - 0s 3ms/step - loss: 0.5810 - accuracy: 0.6987 - val_loss: 0.5536 - val_accuracy: 0.7338\n",
            "Epoch 103/150\n",
            "20/20 [==============================] - 0s 3ms/step - loss: 0.5680 - accuracy: 0.7052 - val_loss: 0.5695 - val_accuracy: 0.7468\n",
            "Epoch 104/150\n",
            "20/20 [==============================] - 0s 3ms/step - loss: 0.5746 - accuracy: 0.7003 - val_loss: 0.5617 - val_accuracy: 0.6883\n",
            "Epoch 105/150\n",
            "20/20 [==============================] - 0s 3ms/step - loss: 0.5687 - accuracy: 0.6938 - val_loss: 0.5810 - val_accuracy: 0.6818\n",
            "Epoch 106/150\n",
            "20/20 [==============================] - 0s 4ms/step - loss: 0.5846 - accuracy: 0.7020 - val_loss: 0.5582 - val_accuracy: 0.7143\n",
            "Epoch 107/150\n",
            "20/20 [==============================] - 0s 3ms/step - loss: 0.5749 - accuracy: 0.7101 - val_loss: 0.5566 - val_accuracy: 0.7338\n",
            "Epoch 108/150\n",
            "20/20 [==============================] - 0s 3ms/step - loss: 0.5633 - accuracy: 0.7117 - val_loss: 0.5561 - val_accuracy: 0.7597\n",
            "Epoch 109/150\n",
            "20/20 [==============================] - 0s 3ms/step - loss: 0.5645 - accuracy: 0.7117 - val_loss: 0.5668 - val_accuracy: 0.6948\n",
            "Epoch 110/150\n",
            "20/20 [==============================] - 0s 3ms/step - loss: 0.6071 - accuracy: 0.6743 - val_loss: 0.7046 - val_accuracy: 0.6688\n",
            "Epoch 111/150\n",
            "20/20 [==============================] - 0s 4ms/step - loss: 0.6023 - accuracy: 0.6873 - val_loss: 0.5486 - val_accuracy: 0.7273\n",
            "Epoch 112/150\n",
            "20/20 [==============================] - 0s 3ms/step - loss: 0.5670 - accuracy: 0.6954 - val_loss: 0.5438 - val_accuracy: 0.7468\n",
            "Epoch 113/150\n",
            "20/20 [==============================] - 0s 2ms/step - loss: 0.5608 - accuracy: 0.7166 - val_loss: 0.5489 - val_accuracy: 0.7532\n",
            "Epoch 114/150\n",
            "20/20 [==============================] - 0s 3ms/step - loss: 0.5591 - accuracy: 0.7134 - val_loss: 0.5881 - val_accuracy: 0.7208\n",
            "Epoch 115/150\n",
            "20/20 [==============================] - 0s 2ms/step - loss: 0.5670 - accuracy: 0.7199 - val_loss: 0.5631 - val_accuracy: 0.7273\n",
            "Epoch 116/150\n",
            "20/20 [==============================] - 0s 2ms/step - loss: 0.5760 - accuracy: 0.7020 - val_loss: 0.5470 - val_accuracy: 0.7338\n",
            "Epoch 117/150\n",
            "20/20 [==============================] - 0s 3ms/step - loss: 0.5572 - accuracy: 0.7182 - val_loss: 0.5493 - val_accuracy: 0.7597\n",
            "Epoch 118/150\n",
            "20/20 [==============================] - 0s 3ms/step - loss: 0.5594 - accuracy: 0.6954 - val_loss: 0.5487 - val_accuracy: 0.7532\n",
            "Epoch 119/150\n",
            "20/20 [==============================] - 0s 3ms/step - loss: 0.5705 - accuracy: 0.7085 - val_loss: 0.5632 - val_accuracy: 0.7338\n",
            "Epoch 120/150\n",
            "20/20 [==============================] - 0s 3ms/step - loss: 0.5820 - accuracy: 0.6971 - val_loss: 0.5418 - val_accuracy: 0.7597\n",
            "Epoch 121/150\n",
            "20/20 [==============================] - 0s 2ms/step - loss: 0.5777 - accuracy: 0.7117 - val_loss: 0.5456 - val_accuracy: 0.7403\n",
            "Epoch 122/150\n",
            "20/20 [==============================] - 0s 3ms/step - loss: 0.5562 - accuracy: 0.7182 - val_loss: 0.5457 - val_accuracy: 0.7403\n",
            "Epoch 123/150\n",
            "20/20 [==============================] - 0s 3ms/step - loss: 0.5590 - accuracy: 0.7231 - val_loss: 0.5654 - val_accuracy: 0.7078\n",
            "Epoch 124/150\n",
            "20/20 [==============================] - 0s 3ms/step - loss: 0.5868 - accuracy: 0.6922 - val_loss: 0.5553 - val_accuracy: 0.7143\n",
            "Epoch 125/150\n",
            "20/20 [==============================] - 0s 4ms/step - loss: 0.5591 - accuracy: 0.7182 - val_loss: 0.5469 - val_accuracy: 0.7792\n",
            "Epoch 126/150\n",
            "20/20 [==============================] - 0s 3ms/step - loss: 0.5486 - accuracy: 0.7199 - val_loss: 0.5654 - val_accuracy: 0.7078\n",
            "Epoch 127/150\n",
            "20/20 [==============================] - 0s 3ms/step - loss: 0.5589 - accuracy: 0.6987 - val_loss: 0.5447 - val_accuracy: 0.7468\n",
            "Epoch 128/150\n",
            "20/20 [==============================] - 0s 2ms/step - loss: 0.5626 - accuracy: 0.7101 - val_loss: 0.5406 - val_accuracy: 0.7338\n",
            "Epoch 129/150\n",
            "20/20 [==============================] - 0s 2ms/step - loss: 0.5512 - accuracy: 0.7231 - val_loss: 0.5538 - val_accuracy: 0.7532\n",
            "Epoch 130/150\n",
            "20/20 [==============================] - 0s 3ms/step - loss: 0.5640 - accuracy: 0.7101 - val_loss: 0.5576 - val_accuracy: 0.7208\n",
            "Epoch 131/150\n",
            "20/20 [==============================] - 0s 4ms/step - loss: 0.5742 - accuracy: 0.7166 - val_loss: 0.5958 - val_accuracy: 0.7143\n",
            "Epoch 132/150\n",
            "20/20 [==============================] - 0s 3ms/step - loss: 0.5577 - accuracy: 0.7182 - val_loss: 0.5375 - val_accuracy: 0.7468\n",
            "Epoch 133/150\n",
            "20/20 [==============================] - 0s 3ms/step - loss: 0.5479 - accuracy: 0.7215 - val_loss: 0.5748 - val_accuracy: 0.7143\n",
            "Epoch 134/150\n",
            "20/20 [==============================] - 0s 2ms/step - loss: 0.5904 - accuracy: 0.6954 - val_loss: 0.5894 - val_accuracy: 0.7013\n",
            "Epoch 135/150\n",
            "20/20 [==============================] - 0s 3ms/step - loss: 0.5718 - accuracy: 0.6987 - val_loss: 0.5375 - val_accuracy: 0.7338\n",
            "Epoch 136/150\n",
            "20/20 [==============================] - 0s 3ms/step - loss: 0.5639 - accuracy: 0.7101 - val_loss: 0.5600 - val_accuracy: 0.7208\n",
            "Epoch 137/150\n",
            "20/20 [==============================] - 0s 4ms/step - loss: 0.5609 - accuracy: 0.7068 - val_loss: 0.5431 - val_accuracy: 0.7338\n",
            "Epoch 138/150\n",
            "20/20 [==============================] - 0s 4ms/step - loss: 0.5674 - accuracy: 0.7085 - val_loss: 0.5461 - val_accuracy: 0.7208\n",
            "Epoch 139/150\n",
            "20/20 [==============================] - 0s 3ms/step - loss: 0.5465 - accuracy: 0.7215 - val_loss: 0.5443 - val_accuracy: 0.7597\n",
            "Epoch 140/150\n",
            "20/20 [==============================] - 0s 2ms/step - loss: 0.5564 - accuracy: 0.7248 - val_loss: 0.5353 - val_accuracy: 0.7662\n",
            "Epoch 141/150\n",
            "20/20 [==============================] - 0s 3ms/step - loss: 0.5428 - accuracy: 0.7280 - val_loss: 0.5405 - val_accuracy: 0.7792\n",
            "Epoch 142/150\n",
            "20/20 [==============================] - 0s 3ms/step - loss: 0.5603 - accuracy: 0.7215 - val_loss: 0.5667 - val_accuracy: 0.7078\n",
            "Epoch 143/150\n",
            "20/20 [==============================] - 0s 3ms/step - loss: 0.5536 - accuracy: 0.6938 - val_loss: 0.5347 - val_accuracy: 0.7597\n",
            "Epoch 144/150\n",
            "20/20 [==============================] - 0s 4ms/step - loss: 0.5443 - accuracy: 0.7199 - val_loss: 0.5379 - val_accuracy: 0.7662\n",
            "Epoch 145/150\n",
            "20/20 [==============================] - 0s 4ms/step - loss: 0.5510 - accuracy: 0.7231 - val_loss: 0.5363 - val_accuracy: 0.7792\n",
            "Epoch 146/150\n",
            "20/20 [==============================] - 0s 3ms/step - loss: 0.5452 - accuracy: 0.7199 - val_loss: 0.5345 - val_accuracy: 0.7597\n",
            "Epoch 147/150\n",
            "20/20 [==============================] - 0s 3ms/step - loss: 0.5421 - accuracy: 0.7166 - val_loss: 0.5400 - val_accuracy: 0.7208\n",
            "Epoch 148/150\n",
            "20/20 [==============================] - 0s 3ms/step - loss: 0.5694 - accuracy: 0.7020 - val_loss: 0.5395 - val_accuracy: 0.7792\n",
            "Epoch 149/150\n",
            "20/20 [==============================] - 0s 3ms/step - loss: 0.5548 - accuracy: 0.7231 - val_loss: 0.5669 - val_accuracy: 0.7143\n",
            "Epoch 150/150\n",
            "20/20 [==============================] - 0s 3ms/step - loss: 0.5560 - accuracy: 0.7166 - val_loss: 0.5583 - val_accuracy: 0.7143\n",
            "loss: 0.5560376644134521\n",
            "val_loss: 0.558312177658081\n"
          ]
        },
        {
          "output_type": "display_data",
          "data": {
            "image/png": "[encoded data removed]",
            "text/plain": [
              "<Figure size 432x288 with 1 Axes>"
            ]
          },
          "metadata": {
            "needs_background": "light"
          }
        },
        {
          "output_type": "stream",
          "name": "stdout",
          "text": [
            "accuracy: 0.7166123986244202\n",
            "val_accuracy: 0.7142857313156128\n"
          ]
        },
        {
          "output_type": "display_data",
          "data": {
            "image/png": "[encoded data removed]",
            "text/plain": [
              "<Figure size 432x288 with 1 Axes>"
            ]
          },
          "metadata": {
            "needs_background": "light"
          }
        }
      ],
      "metadata": {
        "colab": {
          "base_uri": "https://localhost:8080/",
          "height": 1000
        },
        "id": "R4PoB_Jk9AUa",
        "outputId": "554ba077-aeb3-45a9-97a3-0429ac318261"
      }
    },
    {
      "cell_type": "markdown",
      "source": [
        "## Model saving and loading\n",
        "\n",
        "Once training is finished we can saved the resulting model with the training weights. This can be loaded at a second time (or, for example, moved to another machine and loaded there) without having to perform training once again.\n",
        "\n",
        "For more information: https://machinelearningmastery.com/save-load-keras-deep-learning-models/"
      ],
      "metadata": {
        "id": "2ivoAh-k_CjB"
      }
    },
    {
      "cell_type": "code",
      "execution_count": 39,
      "source": [
        "model.save('models/model') \n",
        "\n",
        "# The trained model can be saved to be retrieved later, without re-training it.\n",
        "# e.g. model = keras.models.load_model('path/to/model')"
      ],
      "outputs": [
        {
          "output_type": "stream",
          "name": "stdout",
          "text": [
            "INFO:tensorflow:Assets written to: models/model/assets\n"
          ]
        }
      ],
      "metadata": {
        "colab": {
          "base_uri": "https://localhost:8080/"
        },
        "id": "0dUmchy3_BNi",
        "outputId": "fc20d334-6d3a-4ced-faa3-9ea2b64b1f50"
      }
    },
    {
      "cell_type": "markdown",
      "source": [
        "## Evaluation\n",
        "\n",
        "The trained model can be used to perform predictions. In this case we perform predictions on already used data (the validation dataset), but we could use this on new, never seen before, data."
      ],
      "metadata": {
        "id": "9ZqxPtZA_iSO"
      }
    },
    {
      "cell_type": "code",
      "execution_count": 40,
      "source": [
        "predictions, accuracy = model.evaluate(X_val, y_val)\n",
        "print(f'Accuracy: {accuracy*100:.2f}')"
      ],
      "outputs": [
        {
          "output_type": "stream",
          "name": "stdout",
          "text": [
            "5/5 [==============================] - 0s 2ms/step - loss: 0.5583 - accuracy: 0.7143\n",
            "Accuracy: 71.43\n"
          ]
        }
      ],
      "metadata": {
        "colab": {
          "base_uri": "https://localhost:8080/"
        },
        "id": "4R_LZ6Is_x5z",
        "outputId": "bc43f726-8784-41a8-dbd2-2be7e6e3964b"
      }
    }
  ]
}